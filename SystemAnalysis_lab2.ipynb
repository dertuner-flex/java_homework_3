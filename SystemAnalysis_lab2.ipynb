{
 "cells": [
  {
   "cell_type": "code",
   "execution_count": 1,
   "metadata": {},
   "outputs": [],
   "source": [
    "import pandas as pd\n",
    "import numpy as np"
   ]
  },
  {
   "cell_type": "code",
   "execution_count": 2,
   "metadata": {},
   "outputs": [],
   "source": [
    "X_data = pd.read_csv(\"X_data.csv\")\n",
    "X_data = X_data.to_numpy(dtype=np.float32)"
   ]
  },
  {
   "cell_type": "code",
   "execution_count": 19,
   "metadata": {},
   "outputs": [],
   "source": [
    "Y_data = pd.read_csv(\"Y_data.csv\")\n",
    "Y_data = Y_data.to_numpy(dtype=np.float32)"
   ]
  },
  {
   "cell_type": "markdown",
   "metadata": {},
   "source": [
    "Пусть размерность вектора $x_1 - n_1$, $x_2 - n_2$ и $x_3 - n_3$"
   ]
  },
  {
   "cell_type": "markdown",
   "metadata": {},
   "source": [
    "В случае нашей выборки #3, $n_1 = 2$, $n_2 = 2$ и $n_3 = 2$"
   ]
  },
  {
   "cell_type": "code",
   "execution_count": 31,
   "metadata": {},
   "outputs": [],
   "source": [
    "n1, n2, n3 = 2, 2, 2"
   ]
  },
  {
   "cell_type": "code",
   "execution_count": 56,
   "metadata": {},
   "outputs": [],
   "source": [
    "X1 = X_data[:, 0: n1]\n",
    "X2 = X_data[:, n1: n1 + n2]\n",
    "X3 = X_data[:, n1 + n2: n1 + n2 + n3]"
   ]
  },
  {
   "cell_type": "markdown",
   "metadata": {},
   "source": [
    "Теперь нормируем входные данные относительно каждого столбца \n"
   ]
  },
  {
   "cell_type": "code",
   "execution_count": 65,
   "metadata": {},
   "outputs": [],
   "source": [
    "def normalize(a):\n",
    "    min_element = a.min() \n",
    "    max_element = a.max() \n",
    "    return (a - min_element) / (max_element - min_element) "
   ]
  },
  {
   "cell_type": "code",
   "execution_count": 70,
   "metadata": {},
   "outputs": [],
   "source": [
    "X1_norm = np.apply_along_axis(normalize, 0, X1)\n",
    "X2_norm = np.apply_along_axis(normalize, 0, X2)\n",
    "X3_norm = np.apply_along_axis(normalize, 0, X3)\n",
    "Y_norm = np.apply_along_axis(normalize, 0, Y_data)"
   ]
  },
  {
   "cell_type": "code",
   "execution_count": 71,
   "metadata": {},
   "outputs": [],
   "source": [
    "def chebyshev_polynom_in_point(x, degree):\n",
    "    values = np.zeros(degree + 1)\n",
    "    values[0] = 1\n",
    "    values[1] = x\n",
    "    for current_degree in range(2, degree + 1):\n",
    "        values[current_degree] = 2 * x * values[current_degree - 1] - values[current_degree - 2]\n",
    "    \n",
    "    return values[degree]"
   ]
  },
  {
   "cell_type": "code",
   "execution_count": 72,
   "metadata": {},
   "outputs": [],
   "source": [
    "def star_chebyshev_polynom_in_point(x, degree):\n",
    "    if degree == 0:\n",
    "        return 0.5\n",
    "    else:\n",
    "        return chebyshev_polynom_in_point(2 * x - 1, degree)"
   ]
  },
  {
   "cell_type": "markdown",
   "metadata": {},
   "source": [
    "Составим систему для нахождения $\\lambda_{ij}$"
   ]
  },
  {
   "cell_type": "markdown",
   "metadata": {},
   "source": [
    "Для начала зафиксируем степень смещенных полиномов Чебешева $T_{P_1}^{*}(x)$, $T_{P_2}^{*}(x)$ и $T_{P_3}^{*}(x)$:"
   ]
  },
  {
   "cell_type": "code",
   "execution_count": 74,
   "metadata": {},
   "outputs": [],
   "source": [
    "P1, P2, P3 = 3, 3, 3"
   ]
  },
  {
   "cell_type": "markdown",
   "metadata": {},
   "source": [
    "Количество дискретный наблюдений:"
   ]
  },
  {
   "cell_type": "code",
   "execution_count": 75,
   "metadata": {},
   "outputs": [],
   "source": [
    "N = Y_norm.shape[0]"
   ]
  },
  {
   "cell_type": "code",
   "execution_count": 84,
   "metadata": {},
   "outputs": [],
   "source": [
    "A = []"
   ]
  },
  {
   "cell_type": "code",
   "execution_count": 85,
   "metadata": {},
   "outputs": [],
   "source": [
    "for current_sample_number in range(N):\n",
    "    lambda_first = [star_chebyshev_polynom_in_point(X1_norm[current_sample_number][j1], p1) \n",
    "                    for j1 in range(n1) for p1 in range(P1 + 1)]\n",
    "    \n",
    "    lambda_second = [star_chebyshev_polynom_in_point(X2_norm[current_sample_number][j2], p2) \n",
    "                    for j2 in range(n2) for p2 in range(P2 + 1)]\n",
    "    \n",
    "    lambda_third = [star_chebyshev_polynom_in_point(X3_norm[current_sample_number][j3], p3) \n",
    "                    for j3 in range(n3) for p3 in range(P3 + 1)]\n",
    "    \n",
    "    current_row = np.hstack([lambda_first, lambda_second, lambda_third])\n",
    "    A.append(current_row)"
   ]
  },
  {
   "cell_type": "code",
   "execution_count": 86,
   "metadata": {},
   "outputs": [],
   "source": [
    "A = np.array(A)"
   ]
  },
  {
   "cell_type": "markdown",
   "metadata": {},
   "source": [
    "Теперь решим нашу систему с помощью метода покоординатного спуска"
   ]
  },
  {
   "cell_type": "code",
   "execution_count": 122,
   "metadata": {},
   "outputs": [
    {
     "name": "stderr",
     "output_type": "stream",
     "text": [
      "/home/vladislav/.local/lib/python3.6/site-packages/ipykernel_launcher.py:1: FutureWarning: `rcond` parameter will change to the default of machine precision times ``max(M, N)`` where M and N are the input matrix dimensions.\n",
      "To use the future default and silence this warning we advise to pass `rcond=None`, to keep using the old, explicitly pass `rcond=-1`.\n",
      "  \"\"\"Entry point for launching an IPython kernel.\n"
     ]
    }
   ],
   "source": [
    "sol = np.linalg.lstsq(A, Y_norm[:, 2])"
   ]
  },
  {
   "cell_type": "code",
   "execution_count": 123,
   "metadata": {},
   "outputs": [
    {
     "data": {
      "text/plain": [
       "array([ 1.32858003e-01,  8.72276710e-02, -1.24968376e-06, -9.66652643e-07,\n",
       "        1.32858003e-01,  1.47199150e-01,  5.92178785e-07,  5.22772486e-08,\n",
       "        1.32858003e-01,  4.14352285e-02,  1.43013834e-06,  3.73066659e-07,\n",
       "        1.32858003e-01,  9.14590480e-02,  1.94303811e-02,  6.97598029e-07,\n",
       "        1.32858003e-01,  2.63870347e-01,  5.01584325e-02,  1.14356014e-07,\n",
       "        1.32858003e-01,  6.54233286e-02,  3.23114882e-08, -3.13004653e-07])"
      ]
     },
     "execution_count": 123,
     "metadata": {},
     "output_type": "execute_result"
    }
   ],
   "source": [
    "sol[0]"
   ]
  },
  {
   "cell_type": "code",
   "execution_count": 116,
   "metadata": {},
   "outputs": [
    {
     "data": {
      "text/plain": [
       "(40,)"
      ]
     },
     "execution_count": 116,
     "metadata": {},
     "output_type": "execute_result"
    }
   ],
   "source": [
    "Y_norm[:, 0].shape"
   ]
  },
  {
   "cell_type": "code",
   "execution_count": 115,
   "metadata": {},
   "outputs": [
    {
     "data": {
      "text/plain": [
       "array([0.13285788, 0.13285794, 0.132858  , 0.1328574 , 0.13285793])"
      ]
     },
     "execution_count": 115,
     "metadata": {},
     "output_type": "execute_result"
    }
   ],
   "source": [
    "sol[0][0]"
   ]
  },
  {
   "cell_type": "code",
   "execution_count": null,
   "metadata": {},
   "outputs": [],
   "source": []
  }
 ],
 "metadata": {
  "kernelspec": {
   "display_name": "Python 3",
   "language": "python",
   "name": "python3"
  },
  "language_info": {
   "codemirror_mode": {
    "name": "ipython",
    "version": 3
   },
   "file_extension": ".py",
   "mimetype": "text/x-python",
   "name": "python",
   "nbconvert_exporter": "python",
   "pygments_lexer": "ipython3",
   "version": "3.6.9"
  }
 },
 "nbformat": 4,
 "nbformat_minor": 2
}
